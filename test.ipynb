{
 "cells": [
  {
   "cell_type": "code",
   "execution_count": 5,
   "metadata": {},
   "outputs": [
    {
     "name": "stdout",
     "output_type": "stream",
     "text": [
      "Start training...\n",
      "Epoch 1 loss: 0.011474346594388288\n",
      "Epoch 2 loss: 0.0\n",
      "Epoch 3 loss: 0.0\n",
      "Epoch 4 loss: 0.0\n",
      "Epoch 5 loss: 0.0\n",
      "Epoch 6 loss: 0.0\n",
      "Epoch 7 loss: 0.0\n",
      "Epoch 8 loss: 0.0\n",
      "Epoch 9 loss: 0.0\n",
      "Epoch 10 loss: 0.0\n",
      "Training complete!\n"
     ]
    }
   ],
   "source": [
    "import torch\n",
    "import torch.nn as nn\n",
    "import torch.nn.functional as F\n",
    "\n",
    "from tqdm import tqdm\n",
    "from datetime import datetime\n",
    "\n",
    "from config import Config\n",
    "from model import GPT\n",
    "\n",
    "config = Config()\n",
    "\n",
    "batches = torch.load(\"saved_files/train_batches.pt\")\n",
    "negative_batches = torch.load(\"saved_files/negative_sample_batches.pt\")\n",
    "title_word_embeddings = torch.load(f\"saved_files/title_embeddings_{config.vector_size}.pt\")\n",
    "adj_matrices = torch.load(\"saved_files/adj_matrices.pt\")\n",
    "neighbor_dict = torch.load(\"saved_files/neighbor_dict.pt\")\n",
    "\n",
    "model = GPT(config)\n",
    "model.initialize(title_word_embeddings, adj_matrices, neighbor_dict)\n",
    "model.to(config.device)\n",
    "\n",
    "\n",
    "optimizer = torch.optim.Adam(model.parameters(), lr=config.learning_rate)\n",
    "\n",
    "print(\"Start training...\")\n",
    "\n",
    "loss_history = []\n",
    "\n",
    "for epoch in range(config.num_epochs):\n",
    "    running_loss = 0.0\n",
    "\n",
    "    for i in range(len(batches)):\n",
    "            \n",
    "            optimizer.zero_grad(set_to_none=True)\n",
    "\n",
    "            context = batches[i]\n",
    "            negatives = negative_batches[i]\n",
    "\n",
    "            loss = model(context)\n",
    "\n",
    "            running_loss += loss.item()\n",
    "\n",
    "            loss.backward()\n",
    "\n",
    "            optimizer.step()\n",
    "\n",
    "    loss_history.append(running_loss)\n",
    "    print(f\"Epoch {epoch+1} loss: {running_loss}\")\n",
    "\n",
    "\n",
    "current_time = datetime.now().strftime(\"%d-%m-%Y_%H:%M:%S\")\n",
    "\n",
    "\n",
    "print(\"Training complete!\")\n",
    "\n"
   ]
  },
  {
   "cell_type": "code",
   "execution_count": 9,
   "metadata": {},
   "outputs": [],
   "source": [
    "import numpy as np\n",
    "model.to(\"cpu\")\n",
    "context_idx = batches[0]\n",
    "\n",
    "neighborhood = torch.cat(list(map(neighbor_dict.get, context_idx[:, 0].tolist())), dim=0)"
   ]
  },
  {
   "cell_type": "code",
   "execution_count": 10,
   "metadata": {},
   "outputs": [
    {
     "data": {
      "text/plain": [
       "torch.Size([32, 10, 5])"
      ]
     },
     "execution_count": 10,
     "metadata": {},
     "output_type": "execute_result"
    }
   ],
   "source": [
    "a = torch.ones(32, 10, 200)\n",
    "b = torch.ones(32, 5, 200)\n",
    "\n",
    "\n",
    "prod = torch.bmm(a, b.transpose(1, 2))\n",
    "prod.shape"
   ]
  },
  {
   "cell_type": "code",
   "execution_count": 16,
   "metadata": {},
   "outputs": [
    {
     "name": "stdout",
     "output_type": "stream",
     "text": [
      "Epoch: 0, Loss: 3.322092294692993\n",
      "Epoch: 1, Loss: 3.322092294692993\n",
      "Epoch: 2, Loss: 3.322092294692993\n",
      "Epoch: 3, Loss: 3.322092294692993\n",
      "Epoch: 4, Loss: 3.322092294692993\n",
      "Epoch: 5, Loss: 3.322092294692993\n",
      "Epoch: 6, Loss: 3.322092294692993\n",
      "Epoch: 7, Loss: 3.322092294692993\n",
      "Epoch: 8, Loss: 3.322092294692993\n",
      "Epoch: 9, Loss: 3.322092294692993\n",
      "Accuracy 0.15527950310559005\n"
     ]
    }
   ],
   "source": [
    "device = config.device\n",
    "\n",
    "embeddings = model.transformer.wte.weight.data\n",
    "\n",
    "train_path = \"data/train.txt\"\n",
    "\n",
    "\n",
    "with open(train_path, \"r\") as f:\n",
    "    train = f.readlines()\n",
    "\n",
    "\n",
    "train = [line.strip().split() for line in train]\n",
    "\n",
    "train = [[int(i) for i in line] for line in train]\n",
    "\n",
    "\n",
    "val_path = \"data/val.txt\"\n",
    "\n",
    "with open(val_path, \"r\") as f:\n",
    "    val = f.readlines()\n",
    "\n",
    "\n",
    "val = [line.strip().split() for line in val]\n",
    "\n",
    "val = [[int(i) for i in line] for line in val]\n",
    "\n",
    "embeddings = embeddings.to(device)\n",
    "train_x = [embeddings[i[0]] for i in train]\n",
    "\n",
    "train_y = [F.one_hot(torch.tensor(i[1], device=device), num_classes=26) for i in train]\n",
    "\n",
    "val_x = [embeddings[i[0]] for i in val]\n",
    "\n",
    "val_y = [F.one_hot(torch.tensor(i[1], device=device), num_classes=26) for i in val]\n",
    "\n",
    "neural_net = nn.Sequential(\n",
    "nn.Linear(config.vector_size, 128),\n",
    "nn.ReLU(),\n",
    "nn.Linear(128, 26),\n",
    "#Softmax\n",
    "nn.Softmax(dim=-1)\n",
    ").to(device)\n",
    "\n",
    "optimizer = torch.optim.Adam(neural_net.parameters(), lr=1e-3)\n",
    "\n",
    "loss_fn = F.cross_entropy\n",
    "\n",
    "train_x = torch.stack(train_x, dim=0)\n",
    "\n",
    "train_y = torch.stack(train_y, dim=0)\n",
    "\n",
    "val_x = torch.stack(val_x, dim=0)\n",
    "\n",
    "val_y = torch.stack(val_y, dim=0)\n",
    "\n",
    "\n",
    "for epoch in range(10):\n",
    "    for i in range(len(train_x)):\n",
    "        optimizer.zero_grad()\n",
    "        pred = neural_net(train_x[i])\n",
    "        loss = loss_fn(pred.float(), train_y[i].float())\n",
    "        loss.backward()\n",
    "        optimizer.step()\n",
    "    print(f\"Epoch: {epoch}, Loss: {loss.item()}\")\n",
    "\n",
    "\n",
    "pred = neural_net(val_x)\n",
    "\n",
    "pred = torch.argmax(pred, dim=1)\n",
    "\n",
    "val_y = torch.argmax(val_y, dim=1)\n",
    "\n",
    "print(f\"Accuracy {torch.sum(pred == val_y).item() / len(val_y)}\")\n"
   ]
  },
  {
   "cell_type": "code",
   "execution_count": 17,
   "metadata": {},
   "outputs": [],
   "source": [
    "neighbor_dict = torch.load(\"saved_files/neighbor_dict.pt\")"
   ]
  },
  {
   "cell_type": "code",
   "execution_count": null,
   "metadata": {},
   "outputs": [],
   "source": []
  }
 ],
 "metadata": {
  "kernelspec": {
   "display_name": "transfGNN",
   "language": "python",
   "name": "python3"
  },
  "language_info": {
   "codemirror_mode": {
    "name": "ipython",
    "version": 3
   },
   "file_extension": ".py",
   "mimetype": "text/x-python",
   "name": "python",
   "nbconvert_exporter": "python",
   "pygments_lexer": "ipython3",
   "version": "3.10.12"
  }
 },
 "nbformat": 4,
 "nbformat_minor": 2
}
